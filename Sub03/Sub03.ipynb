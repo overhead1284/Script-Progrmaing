{
 "cells": [
  {
   "cell_type": "markdown",
   "metadata": {},
   "source": [
    "# Assignment 3"
   ]
  },
  {
   "cell_type": "markdown",
   "metadata": {},
   "source": [
    "### 2015136020 김민기"
   ]
  },
  {
   "cell_type": "markdown",
   "metadata": {},
   "source": [
    "1. L=[1, 2, 3, 4, 5]일 때 다음 각 문장을 수행한 후의 결과를 보고 납득할 만한 이유를 설명하시오."
   ]
  },
  {
   "cell_type": "code",
   "execution_count": 2,
   "metadata": {},
   "outputs": [
    {
     "name": "stdout",
     "output_type": "stream",
     "text": [
      "[1, 100, 4, 5]\n"
     ]
    }
   ],
   "source": [
    "L=[1, 2, 3, 4, 5]\n",
    "L[1:3] = [100]\n",
    "print(L)"
   ]
  },
  {
   "cell_type": "markdown",
   "metadata": {},
   "source": [
    "2번째 인덱스를 100으로 대입하였다."
   ]
  },
  {
   "cell_type": "code",
   "execution_count": 3,
   "metadata": {},
   "outputs": [
    {
     "name": "stdout",
     "output_type": "stream",
     "text": [
      "[1, 100, 4, 5]\n"
     ]
    }
   ],
   "source": [
    "L=[1, 2, 3, 4, 5]\n",
    "L[1:3] = [(100)]\n",
    "print(L)"
   ]
  },
  {
   "cell_type": "markdown",
   "metadata": {},
   "source": [
    "튜플의 자료가 한 개일 때는 ,가 들어가야 튜플로 인식한다. 지금은 그냥 리스트이다."
   ]
  },
  {
   "cell_type": "code",
   "execution_count": 4,
   "metadata": {},
   "outputs": [
    {
     "ename": "TypeError",
     "evalue": "can only assign an iterable",
     "output_type": "error",
     "traceback": [
      "\u001b[1;31m---------------------------------------------------------------------------\u001b[0m",
      "\u001b[1;31mTypeError\u001b[0m                                 Traceback (most recent call last)",
      "\u001b[1;32m<ipython-input-4-b14b6d5e9def>\u001b[0m in \u001b[0;36m<module>\u001b[1;34m()\u001b[0m\n\u001b[0;32m      1\u001b[0m \u001b[0mL\u001b[0m\u001b[1;33m=\u001b[0m\u001b[1;33m[\u001b[0m\u001b[1;36m1\u001b[0m\u001b[1;33m,\u001b[0m \u001b[1;36m2\u001b[0m\u001b[1;33m,\u001b[0m \u001b[1;36m3\u001b[0m\u001b[1;33m,\u001b[0m \u001b[1;36m4\u001b[0m\u001b[1;33m,\u001b[0m \u001b[1;36m5\u001b[0m\u001b[1;33m]\u001b[0m\u001b[1;33m\u001b[0m\u001b[0m\n\u001b[1;32m----> 2\u001b[1;33m \u001b[0mL\u001b[0m\u001b[1;33m[\u001b[0m\u001b[1;36m1\u001b[0m\u001b[1;33m:\u001b[0m\u001b[1;36m3\u001b[0m\u001b[1;33m]\u001b[0m \u001b[1;33m=\u001b[0m \u001b[1;36m100\u001b[0m\u001b[1;33m\u001b[0m\u001b[0m\n\u001b[0m\u001b[0;32m      3\u001b[0m \u001b[0mprint\u001b[0m\u001b[1;33m(\u001b[0m\u001b[0mL\u001b[0m\u001b[1;33m)\u001b[0m\u001b[1;33m\u001b[0m\u001b[0m\n",
      "\u001b[1;31mTypeError\u001b[0m: can only assign an iterable"
     ]
    }
   ],
   "source": [
    "L=[1, 2, 3, 4, 5]\n",
    "L[1:3] = 100\n",
    "print(L)"
   ]
  },
  {
   "cell_type": "markdown",
   "metadata": {},
   "source": [
    "인트형은 리터러블한 자료형 (튜플,리스트,집합 등)이 아니라 들어갈 수 없다. 뒤에 ,를 붙여 순서를 줘야한다."
   ]
  },
  {
   "cell_type": "code",
   "execution_count": 5,
   "metadata": {},
   "outputs": [
    {
     "ename": "TypeError",
     "evalue": "can only assign an iterable",
     "output_type": "error",
     "traceback": [
      "\u001b[1;31m---------------------------------------------------------------------------\u001b[0m",
      "\u001b[1;31mTypeError\u001b[0m                                 Traceback (most recent call last)",
      "\u001b[1;32m<ipython-input-5-9714c1575170>\u001b[0m in \u001b[0;36m<module>\u001b[1;34m()\u001b[0m\n\u001b[0;32m      1\u001b[0m \u001b[0mL\u001b[0m\u001b[1;33m=\u001b[0m\u001b[1;33m[\u001b[0m\u001b[1;36m1\u001b[0m\u001b[1;33m,\u001b[0m \u001b[1;36m2\u001b[0m\u001b[1;33m,\u001b[0m \u001b[1;36m3\u001b[0m\u001b[1;33m,\u001b[0m \u001b[1;36m4\u001b[0m\u001b[1;33m,\u001b[0m \u001b[1;36m5\u001b[0m\u001b[1;33m]\u001b[0m\u001b[1;33m\u001b[0m\u001b[0m\n\u001b[1;32m----> 2\u001b[1;33m \u001b[0mL\u001b[0m\u001b[1;33m[\u001b[0m\u001b[1;36m1\u001b[0m\u001b[1;33m:\u001b[0m\u001b[1;36m3\u001b[0m\u001b[1;33m]\u001b[0m \u001b[1;33m=\u001b[0m \u001b[1;33m(\u001b[0m\u001b[1;36m100\u001b[0m\u001b[1;33m)\u001b[0m\u001b[1;33m\u001b[0m\u001b[0m\n\u001b[0m\u001b[0;32m      3\u001b[0m \u001b[0mprint\u001b[0m\u001b[1;33m(\u001b[0m\u001b[0mL\u001b[0m\u001b[1;33m)\u001b[0m\u001b[1;33m\u001b[0m\u001b[0m\n",
      "\u001b[1;31mTypeError\u001b[0m: can only assign an iterable"
     ]
    }
   ],
   "source": [
    "L=[1, 2, 3, 4, 5]\n",
    "L[1:3] = (100)\n",
    "print(L)"
   ]
  },
  {
   "cell_type": "markdown",
   "metadata": {},
   "source": [
    "역시 리터러블한 자료형이 아니라 안된다."
   ]
  },
  {
   "cell_type": "code",
   "execution_count": 12,
   "metadata": {},
   "outputs": [
    {
     "name": "stdout",
     "output_type": "stream",
     "text": [
      "<class 'tuple'>\n",
      "[1, 100, 101, 102, 4, 5]\n"
     ]
    }
   ],
   "source": [
    "L=[1, 2, 3, 4, 5]\n",
    "L[1:3] = (100, 101, 102)\n",
    "print(type((1,2)))\n",
    "print(L)"
   ]
  },
  {
   "cell_type": "markdown",
   "metadata": {},
   "source": [
    "튜플이지만 슬라이싱 연산을 통해넣으면 1번과 3번 사이에 넣는 것이기 때문에 그냥 각 원소가 된다"
   ]
  },
  {
   "cell_type": "code",
   "execution_count": 13,
   "metadata": {},
   "outputs": [
    {
     "name": "stdout",
     "output_type": "stream",
     "text": [
      "[1, 100, 101, 102, 4, 5]\n"
     ]
    }
   ],
   "source": [
    "L=[1, 2, 3, 4, 5]\n",
    "L[1:3] = [100, 101, 102]\n",
    "print(L)"
   ]
  },
  {
   "cell_type": "markdown",
   "metadata": {},
   "source": [
    "리스트도 마찬가지 이다."
   ]
  },
  {
   "cell_type": "code",
   "execution_count": 14,
   "metadata": {},
   "outputs": [
    {
     "name": "stdout",
     "output_type": "stream",
     "text": [
      "[1, (100, 101, 102), 4, 5]\n"
     ]
    }
   ],
   "source": [
    "L=[1, 2, 3, 4, 5]\n",
    "L[1:3] = [(100, 101, 102)]\n",
    "print(L)"
   ]
  },
  {
   "cell_type": "markdown",
   "metadata": {},
   "source": [
    "튜플을 리스트로 감싸고 넣으면 튜플을 원소로 가진 리스트가 된다."
   ]
  },
  {
   "cell_type": "code",
   "execution_count": 15,
   "metadata": {},
   "outputs": [
    {
     "name": "stdout",
     "output_type": "stream",
     "text": [
      "[1, [100, 101, 102], 4, 5]\n"
     ]
    }
   ],
   "source": [
    "L=[1, 2, 3, 4, 5]\n",
    "L[1:3] = [[100, 101, 102]]\n",
    "print(L)"
   ]
  },
  {
   "cell_type": "markdown",
   "metadata": {},
   "source": [
    "리스트를 원소로 가지는 리스트가 된다."
   ]
  },
  {
   "cell_type": "markdown",
   "metadata": {},
   "source": [
    "2. 문자열 S = 'Hello World and Python'에 대해 다음 요구사항에 대한 Python 코드를 제시하시오.\n",
    "   - 단어의 순서가 역순으로 되어진 문자열 ('Python and World Hello')을 만들고\n",
    "   - 위의 결과 문자열에 대해 메소드 split과 join을 이용하여 공백을 모두 없엔 문자열 'PythonandWorldHello'을 만드시오."
   ]
  },
  {
   "cell_type": "code",
   "execution_count": 27,
   "metadata": {},
   "outputs": [],
   "source": [
    "S = 'Hello World and Python'\n",
    "S = S[16:]+S[11:16]+S[6:12]+S[:5]\n",
    "S = ''.join(S.split())"
   ]
  },
  {
   "cell_type": "markdown",
   "metadata": {},
   "source": [
    "슬라이싱 연산으로 역순으로 만들고 조인과 스플릿을 한번에 해주었다. 그렇지 않으면 따로 리스트 형의 변수를 만들어야 하기 때문이다."
   ]
  },
  {
   "cell_type": "markdown",
   "metadata": {},
   "source": [
    "3. 다음 코드를 보고 물음에 답하시오\n",
    "   - 위 코드를 수행한 이후 다음 코드를 수행한 후 b와 c의 내용을 확인하시오\n",
    "     a[0]=0\n",
    "   - b와 c 객체의 차이는 무엇인가?"
   ]
  },
  {
   "cell_type": "code",
   "execution_count": 29,
   "metadata": {},
   "outputs": [
    {
     "name": "stdout",
     "output_type": "stream",
     "text": [
      "[1, 2, 3, 1, 2, 3, 1, 2, 3]\n",
      "[[1, 2, 3], [1, 2, 3], [1, 2, 3]]\n"
     ]
    }
   ],
   "source": [
    "a = [1, 2, 3]\n",
    "b = a * 3\n",
    "c = [a] * 3\n",
    "print(b)\n",
    "print(c)"
   ]
  },
  {
   "cell_type": "code",
   "execution_count": 31,
   "metadata": {},
   "outputs": [
    {
     "name": "stdout",
     "output_type": "stream",
     "text": [
      "[1, 2, 3, 1, 2, 3, 1, 2, 3]\n",
      "[[0, 2, 3], [0, 2, 3], [0, 2, 3]]\n"
     ]
    }
   ],
   "source": [
    "a[0]=0\n",
    "print(b)\n",
    "print(c)"
   ]
  },
  {
   "cell_type": "markdown",
   "metadata": {},
   "source": [
    "b는 단순히 a의 값을 세번 반복한 리스트이다. 반면에 c는 [a]라는 리스트 객체를 세번 반복한 리스트 이기에 a값이 바뀌면 따라서 바뀌게 된다."
   ]
  },
  {
   "cell_type": "markdown",
   "metadata": {},
   "source": [
    "4. 다음 문자열을 ':'을 기준으로 분리하여 리스트로 만들고 각 문자열의 좌우 공백을 제거하시오 (즉, 문자열 S에서 l을 만들어라)\n",
    "   - for ~ in 문을 이용한 코드를 작성하시오\n",
    "   - 리스트 내포(list comprehension)를 이용한 코드를 작성하시오."
   ]
  },
  {
   "cell_type": "code",
   "execution_count": 42,
   "metadata": {
    "scrolled": true
   },
   "outputs": [
    {
     "name": "stdout",
     "output_type": "stream",
     "text": [
      "['first star', 'second star', 'third star']\n"
     ]
    }
   ],
   "source": [
    "S = '  first star   :   second star   :    third star  '\n",
    "I = []\n",
    "for i in s.split(':') :\n",
    "    I.append((i.strip()))\n",
    "print(I)"
   ]
  },
  {
   "cell_type": "code",
   "execution_count": 43,
   "metadata": {
    "scrolled": true
   },
   "outputs": [
    {
     "name": "stdout",
     "output_type": "stream",
     "text": [
      "['first star', 'second star', 'third star']\n"
     ]
    }
   ],
   "source": [
    "S = '  first star   :   second star   :    third star  '\n",
    "I = [i.strip() for i in s.split(':')]\n",
    "print(I)"
   ]
  },
  {
   "cell_type": "markdown",
   "metadata": {},
   "source": [
    "스플릿과 스트립을 이용하여 작성하였다."
   ]
  },
  {
   "cell_type": "markdown",
   "metadata": {},
   "source": [
    "5. 다음과 같이 0보다 큰 정수 리스트 변수 list를 인자로 받는 함수 addall(list)와 addallodd(list)를 for ~ in 리터널과 리스트 내포 방식으로 각각 제시하시오.\n",
    "    - addall(list) 함수 (리스트 내의 모든 정수를 더하는 함수로서 해답으로는 for ~ in 리터럴과 리스트 내포 방식으로 각각 제시하시오.)\n",
    "    - addallodd(list) 함수 (리스트내의 모든 홀수를 더하는 함수로서 해답으로는 for ~ in 리터럴과 리스트 내포 방식으로 각각 제시하시오.)"
   ]
  },
  {
   "cell_type": "code",
   "execution_count": 51,
   "metadata": {},
   "outputs": [
    {
     "name": "stdout",
     "output_type": "stream",
     "text": [
      "6\n",
      "6\n"
     ]
    }
   ],
   "source": [
    "def addall(L) :\n",
    "    res = 0\n",
    "    for i in L :\n",
    "        res += i\n",
    "    return res\n",
    "i=[1,2,3]\n",
    "print(addall(i))\n",
    "\n",
    "def addall(L) :\n",
    "    res = sum([i for i in L])\n",
    "    return res\n",
    "i=[1,2,3]\n",
    "print(addall(i))"
   ]
  },
  {
   "cell_type": "code",
   "execution_count": 56,
   "metadata": {},
   "outputs": [
    {
     "name": "stdout",
     "output_type": "stream",
     "text": [
      "4\n",
      "4\n"
     ]
    }
   ],
   "source": [
    "def addallodd(L) :\n",
    "    res = 0\n",
    "    for i in L :\n",
    "        if( i % 2 == 1) :\n",
    "            res += i\n",
    "    return res\n",
    "i=[1,2,3]\n",
    "print(addallodd(i))\n",
    "\n",
    "def addallodd(L) :\n",
    "    res = sum([i for i in L if i % 2 == 1])\n",
    "    return res\n",
    "i=[1,2,3]\n",
    "print(addallodd(i))"
   ]
  },
  {
   "cell_type": "markdown",
   "metadata": {},
   "source": [
    "포문은 그냥 작성했고, 리스트 내포같은경우 리스트로 반환이 되기에 sum함수를 이용했다."
   ]
  },
  {
   "cell_type": "markdown",
   "metadata": {},
   "source": [
    "6. 다음 코드를 보고 물음에 답하시오.\n",
    "   - 아래 코드의 수행 결과 d와 e는 항상 같은 결과를 출력한다. 그 이유는 무엇인가?\n",
    "   - 아래 코드의 수행 결과 마지막 f의 내용은 다음과 같다. 이 때 'high' 키의 값 내용 중 500이 출력된 이유와 'low' 키의 값 내용 중 [1, 2, 3]이 출력된 이유를 설명하시오 ([hint]: shallow copy 관점에서 설명하시오.)"
   ]
  },
  {
   "cell_type": "code",
   "execution_count": 57,
   "metadata": {},
   "outputs": [
    {
     "name": "stdout",
     "output_type": "stream",
     "text": [
      "{'low': [1, 2, 3], 'high': [4, 5, 6]}\n",
      "{'low': [1, 2, 3], 'high': [4, 5, 6]}\n",
      "{'low': [1, 2, 3], 'high': [4, 5, 6]}\n",
      "\n",
      "{'low': [10, 20, 30], 'high': [4, 500, 6]}\n",
      "{'low': [10, 20, 30], 'high': [4, 500, 6]}\n",
      "{'low': [1, 2, 3], 'high': [4, 500, 6]}\n"
     ]
    }
   ],
   "source": [
    "L1 = [1, 2, 3]\n",
    "L2 = [4, 5, 6]\n",
    "d = {'low':L1, 'high':L2}\n",
    "e = d\n",
    "f = d.copy()\n",
    "print(d)\n",
    "print(e)\n",
    "print(f)\n",
    "print()\n",
    "d['low'] = [10, 20, 30]\n",
    "d['high'][1] = 500\n",
    "print(d)\n",
    "print(e)\n",
    "print(f)"
   ]
  },
  {
   "cell_type": "markdown",
   "metadata": {},
   "source": [
    "e = d 의 의미는 e에게 d가 가리키는 것과 같은 객체를 가키리라는 의미이기에 d가 바뀌면 e도 바뀌고 반대도 성립한다.\n",
    "\n",
    "copy는 객체 자체는 새로 생성하지만 객체 안의 원소들은 복사를 하지 않는다. 따라서 low는 객체를 바꾼 것이기에 변하지 않았고, high는 객체 안의 원소를 바꾼것이라 변한 것이다."
   ]
  },
  {
   "cell_type": "markdown",
   "metadata": {},
   "source": [
    "7. 사전 d = {'one':1, 'two':2, 'three':3, 'four':4, 'five':5}가 주어졌을 때 다음 요구사항에 맞는 코드를 제시하시오\n",
    "   - [참고]: d.keys(), d.values()를 통해 리스트를 얻어낸 후 리스트가 지니고 있는 sort(cmp=None, key=None, reverse=False)함수를 활용하시오.\n",
    "   - 키의 알파벳 오름차순 순서대로 튜플 (키, 값)을 차례대로 출력하시오.\n",
    "   - 키의 알파벳 내림차순 순서대로 튜플 (키, 값)을 차례대로 출력하시오.\n",
    "   - 값의 오름차순 순서대로 튜플 (키, 값)을 차례대로 출력하시오.\n",
    "   - 값의 내림차순 순서대로 튜플 (키, 값)을 차례대로 출력하시오."
   ]
  },
  {
   "cell_type": "code",
   "execution_count": 102,
   "metadata": {
    "scrolled": true
   },
   "outputs": [
    {
     "name": "stdout",
     "output_type": "stream",
     "text": [
      "[('five', 5), ('four', 4), ('one', 1), ('three', 3), ('two', 2)]\n",
      "[('two', 2), ('three', 3), ('one', 1), ('four', 4), ('five', 5)]\n",
      "[('one', 1), ('two', 2), ('three', 3), ('four', 4), ('five', 5)]\n",
      "[('five', 5), ('four', 4), ('three', 3), ('two', 2), ('one', 1)]\n"
     ]
    }
   ],
   "source": [
    "d = {'one':1, 'two':2, 'three':3, 'four':4, 'five':5}\n",
    "def cmp_element(a) :\n",
    "    return a[1]\n",
    "print(sorted(list(d.items())))\n",
    "print(sorted(list(d.items()), reverse = True))\n",
    "print(sorted(list(d.items()), key = cmp_element))\n",
    "print(sorted(list(d.items()), key = cmp_element, reverse = True))"
   ]
  },
  {
   "cell_type": "markdown",
   "metadata": {},
   "source": [
    "items 함수로 튜플로 된 리스트를 얻고, sorted함수로 정렬하였다."
   ]
  },
  {
   "cell_type": "markdown",
   "metadata": {},
   "source": [
    "8. [ACM-ICPC 문제 1673번]\n",
    "치킨 쿠폰"
   ]
  },
  {
   "cell_type": "code",
   "execution_count": 3,
   "metadata": {},
   "outputs": [],
   "source": [
    "import sys\n",
    "for line in sys.stdin:\n",
    "        n = int(line.split()[0])\n",
    "        k = int(line.split()[1])\n",
    "        chicken = n\n",
    "        while n >= k :\n",
    "            chicken += n//k\n",
    "            n = n//k + n%k\n",
    "        print(chicken)"
   ]
  },
  {
   "cell_type": "markdown",
   "metadata": {},
   "source": [
    "문제 자체는 풀었는데 백준에서 입력값의 개수가 정해져있지 않은 경우를 어떻게 해결해야 할지 잘 몰라서, while 안에 인풋값이 ''이나 None 일 경우 break를 시도해봤는데 에러가 났다. 구글링해서 이 방법을 찾기는 했는데 아직 부족하다는 것을 느꼈다."
   ]
  },
  {
   "cell_type": "markdown",
   "metadata": {},
   "source": [
    "![11](https://raw.githubusercontent.com/overhead1284/Script-Progrmaing/master/Sub03/8.PNG)"
   ]
  },
  {
   "cell_type": "markdown",
   "metadata": {},
   "source": [
    "#### *. Incremental Project 문제"
   ]
  },
  {
   "cell_type": "code",
   "execution_count": 5,
   "metadata": {},
   "outputs": [],
   "source": [
    "import requests\n",
    "import string\n",
    "\n",
    "def Search(s) :\n",
    "    req = requests.get(s)\n",
    "    source = req.text\n",
    "    source2 = \"\"\n",
    "    while(1) :      \n",
    "        source = source[source.find('<'):] \n",
    "        if source.find(\"<!--\") == 0 : \n",
    "            source = source[source.find(\"-->\")+3:] \n",
    "        elif source.find(\"<script>\") == 0 : \n",
    "            source = source[source.find(\"</script>\")+9:] \n",
    "        elif source.find(\"<style>\") == 0 :\n",
    "            source = source[source.find(\"</style>\")+8:]\n",
    "        else :\n",
    "            source = source[source.find('>')+1:] \n",
    "            for ch in source :    \n",
    "                if ch == '<' : \n",
    "                    break    \n",
    "                else : source2 += ch       \n",
    "        if(source.find('<') == -1):\n",
    "            break \n",
    "    for i in string.punctuation :\n",
    "        source2 = ' '.join(source2.split(i))\n",
    "    d = {}\n",
    "    for i in source2.split() :\n",
    "        if i in d :\n",
    "            d[i] += 1\n",
    "        else :\n",
    "            d[i] = 1\n",
    "    return d\n"
   ]
  },
  {
   "cell_type": "code",
   "execution_count": 6,
   "metadata": {},
   "outputs": [
    {
     "name": "stdout",
     "output_type": "stream",
     "text": [
      "{'컴퓨터공학부': 7, '로그인': 4, '아이디': 1, '비밀번호': 1, '유지': 2, '브라우저를': 1, '닫더라도': 1, '로그인이': 1, '계속': 1, '유지될': 1, '수': 2, '있습니다': 1, '기능을': 1, '사용할': 1, '경우': 1, '다음': 1, '접속부터는': 1, '로그인할': 1, '필요가': 1, '없습니다': 1, '단': 1, '게임방': 1, '학교': 1, '등': 1, '공공장소에서': 1, '이용': 1, '시': 1, '개인정보가': 1, '유출될': 1, '있으니': 1, '꼭': 1, '로그아웃을': 1, '해주세요': 1, '회원가입': 1, 'ID': 1, 'PW': 1, '찾기': 1, 'IT': 5, '교육의': 2, '글로벌': 4, '메카': 2, '한국기술교육대학교': 6, 'Close': 1, '소개': 1, '구성원소개': 1, '학사안내': 1, '입학': 1, '학부': 1, '대학원': 2, '학부광장': 1, '자료실': 2, '공학교육인증': 1, '학부서비스': 1, 'Registration': 1, 'School': 1, 'of': 1, 'Computer': 1, 'Science': 1, 'and': 1, 'Engineering': 1, '융합소프트웨어': 3, '인력양성사업': 3, 'CK': 1, 'Creative': 1, 'Korea': 1, 'I': 1, '교육역량강화사업': 3, '온라인': 3, '컨텐츠': 2, 'Online': 1, 'Contents': 1, 'for': 3, 'Education': 1, 'Capability': 1, 'Empowerment': 1, '홈페이지에': 1, '오신': 1, '것을환영합니다': 1, '수준의': 1, 'IT전문인력': 1, '양성': 1, 'IT융합분야에': 1, '대한': 1, '국제적인': 1, '경쟁력': 1, '고취': 1, '바로가기': 2, '컨텐츠를': 1, '소개합니다': 1, '공지사항': 1, 'AR': 2, 'VR분야': 1, 'Capston': 1, 'Design': 1, '지원': 2, '계획': 1, '2018': 36, '11': 3, '30': 5, '금': 1, '10': 29, '29': 19, '16': 6, '특성화': 3, '2018학년도': 1, '2학기': 2, '운영': 1, '강좌': 1, '안내': 2, '56': 2, 'IT융합': 2, '아이디어': 1, '경진대회': 1, '25': 4, '15': 10, '01': 4, 'Co': 1, 'Bot': 1, 'Intensive': 1, '캠프': 1, '모집': 2, '22': 1, '졸업작품': 2, '산업체': 1, '평가회': 1, '결과에': 1, '따른': 1, '19': 4, '14': 8, '09': 14, '자유게시판': 1, '★문화의날': 1, '행사': 1, '공지★': 1, '20': 4, '31': 2, '졸업작품전시회': 1, '기간': 1, '헤어': 1, '메이크업': 1, '07': 3, '48': 2, '※모의토익비': 1, '공지※': 1, '28': 3, '37': 6, 'ACM': 1, 'ICPC': 1, '예선': 1, '신청기간이': 1, '얼마': 1, '안': 1, '남았습니다': 1, '13': 5, '36': 6, '문화행사': 1, '취소': 1, '공지': 1, '17': 12, '취업게시판': 1, '㈜비즈테크파트너스': 1, 'LG': 1, 'CNS자회사': 1, '신입': 2, '개발직': 1, '국가보안기술연구소': 1, '정규직': 1, '채용': 1, '04': 1, '18': 5, '한글과컴퓨터그룹': 1, '2018년': 1, '하반기': 1, '경력': 1, '공채': 1, '27': 1, '구인': 1, '천안': 1, '충무병원': 1, '전산실': 1, '정부교육': 1, 'K': 1, 'Shield': 1, '주니어': 1, '교육생': 1, '정보보호': 1, '9': 1, '5': 1, '03': 1, '53': 2, 'Platum': 1, '표철민': 1, '대표': 1, '“블록체인': 1, '생태계': 1, '조성위해': 1, '불법만': 1, '아니면': 1, '50': 2, '아산나눔재단': 1, '‘아산': 1, '기업가정신': 1, '교육': 1, '포럼’': 1, '개최': 1, '43': 2, '10월': 1, '29일': 1, '스타트업': 3, '비즈니스': 1, '동향': 1, '메쉬코리아': 1, '위드': 1, '블록체인': 1, '기반': 1, '기업용': 1, '솔루션': 1, '개발': 1, '‘블록오': 1, '08': 4, '더팀스': 1, '커리어피드': 1, '취업의': 1, '고수가': 1, '되는': 1, '방법': 1, '전자신문': 1, '국정감사': 1, '화웨이': 1, '5G': 2, '장비': 1, '보안': 1, '검증': 1, '수용': 1, '41': 2, '이슈분석': 2, '역차별': 2, '해소': 2, '동향은': 1, '00': 8, 'SK텔레콤': 1, '중소기업과': 1, '모세혈관': 1, '고도화': 1, '나선다': 1, 'SK브로드밴드': 1, '세계': 1, '3번째': 1, '프로그래매틱': 1, '광고': 1, '도입': 1, '글로벌ICT기업': 1, '5대': 1, '분야': 1, 'TechCrunch': 1, 'Google': 1, 'beefs': 1, 'up': 1, 'Firebase': 1, 'platform': 1, 'the': 1, 'ente': 1, '32': 2, 'Five': 1, 'days': 1, 'left': 1, 'to': 2, 'reap': 1, 'big': 1, 'early': 1, 'bird': 1, 'savings': 1, 'Robby': 1, 'Stein': 1, 'talk': 1, 'about': 1, 'Instagram': 1, 'beyond': 1, 'Sys': 1, '40': 2, 'AnyMind': 1, 'which': 1, 'uses': 1, 'AI': 1, 'advertising': 1, 'market': 1, 'Far': 1, 'right': 1, 'social': 1, 'network': 1, 'Gab': 1, 'goes': 1, 'offline': 1, 'afte': 1, 'Quick': 1, 'Navigation': 1, '홈페이지': 1, 'WEBMAIL': 1, '평생교육원': 1, '교직원': 1, '업무': 1, 'Campus': 1, 'Location': 1, 'Contact': 1, 'CSE': 1, '충청남도': 2, '천안시': 2, '동남구': 2, '병천면': 2, '충절로': 2, '1600한국기술교육대학교': 1, '학과사무실': 1, 'TEL': 1, '041': 2, '560': 2, '1460': 1, '1461': 1, 'FAX': 1, '1462': 1, 'Facebook': 1, '31253': 1, '1600': 1, '가전리': 1, 'Copyright': 1, '©': 1, '2015': 1, 'All': 1, 'rights': 1, 'reserved': 1}\n"
     ]
    }
   ],
   "source": [
    "#print(Search('http://cse.koreatech.ac.kr'))\n",
    "#print(Search('https://www.koreatech.ac.kr'))\n",
    "#print(Search('http://www.naver.com'))\n",
    "#print(Search('http://www.daum.net'))\n",
    "#print(Search('http://www.nytimes.com'))"
   ]
  },
  {
   "cell_type": "markdown",
   "metadata": {},
   "source": [
    "모범 답안을 참고하여 작성했다. for in 문에 구분자를 넣어 차례대로 구두문자를 없앴고, 사전에 없는 키값이면 1, 기존에 있으면 +1을 시켜 사전을 정의했다."
   ]
  },
  {
   "cell_type": "markdown",
   "metadata": {},
   "source": [
    "### 소감\n",
    "- 백준 문제를 풀면서 알고리즘 적인 부분보다 입력할 개수가 정해지지 않은 입력에 대해 처리하는 것을 어떻게 해야할지 몰라서 한참동안 고민하고 여러 시도를 해보았다. 결국에는 찾아다가 하긴 했지만 부족한 점이 많이 느껴지는 과제였다. 인크리멘탈 프로젝트는 이제 무언가 의미있는 내용을 출력하고 있다는 느낌이 들어 뿌듯했다."
   ]
  }
 ],
 "metadata": {
  "kernelspec": {
   "display_name": "Python 3",
   "language": "python",
   "name": "python3"
  },
  "language_info": {
   "codemirror_mode": {
    "name": "ipython",
    "version": 3
   },
   "file_extension": ".py",
   "mimetype": "text/x-python",
   "name": "python",
   "nbconvert_exporter": "python",
   "pygments_lexer": "ipython3",
   "version": "3.6.5"
  }
 },
 "nbformat": 4,
 "nbformat_minor": 2
}
