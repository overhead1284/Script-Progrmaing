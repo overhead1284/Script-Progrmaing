{
 "cells": [
  {
   "cell_type": "markdown",
   "metadata": {},
   "source": [
    "# Assignment 2"
   ]
  },
  {
   "cell_type": "markdown",
   "metadata": {},
   "source": [
    "### 2015136020 김민기"
   ]
  },
  {
   "cell_type": "markdown",
   "metadata": {},
   "source": [
    "#### 1. 다음 6 개의 Expression에 대해 Evaluation 결과 값을 출력하고, 해당 결과가 나온 이유에 대해 설명하시오 "
   ]
  },
  {
   "cell_type": "code",
   "execution_count": 6,
   "metadata": {
    "scrolled": true
   },
   "outputs": [
    {
     "name": "stdout",
     "output_type": "stream",
     "text": [
      "4\n"
     ]
    }
   ],
   "source": [
    "print(1 and 2 and 3 and 4)"
   ]
  },
  {
   "cell_type": "markdown",
   "metadata": {},
   "source": [
    "and 연산은 앞의 값이 참이면 뒤의 값을 리턴한다 (뒤의 값의 참 거짓 여부에 따라 달라지기 때문, 단순 숫자의 경우 0일 경우에만 거짓으로 친다)"
   ]
  },
  {
   "cell_type": "code",
   "execution_count": 2,
   "metadata": {},
   "outputs": [
    {
     "name": "stdout",
     "output_type": "stream",
     "text": [
      "1\n"
     ]
    }
   ],
   "source": [
    "print(1 or 2 or 3 or 4)"
   ]
  },
  {
   "cell_type": "markdown",
   "metadata": {},
   "source": [
    "or 연산은 앞의 값이 참인 경우에는 앞의 값을 리턴한다(뒤의 값이 무엇인지는 상관없이 무조건 참이 되기 때문)"
   ]
  },
  {
   "cell_type": "code",
   "execution_count": 8,
   "metadata": {},
   "outputs": [
    {
     "name": "stdout",
     "output_type": "stream",
     "text": [
      "2\n"
     ]
    }
   ],
   "source": [
    "print(1 and 2 or 3 and 4)"
   ]
  },
  {
   "cell_type": "markdown",
   "metadata": {},
   "source": [
    "첫번째 and 연산의 결과가 참이기에 뒤의 and 연산은 하지조차 않고 앞의 값을 리턴했다"
   ]
  },
  {
   "cell_type": "code",
   "execution_count": 4,
   "metadata": {},
   "outputs": [
    {
     "name": "stdout",
     "output_type": "stream",
     "text": [
      "2\n"
     ]
    }
   ],
   "source": [
    "print((1 and 2) or (3 and 4))"
   ]
  },
  {
   "cell_type": "markdown",
   "metadata": {},
   "source": [
    "각괄호의 and연산을 먼저 하고 2 or 4의 경우에서 2가 참이기에 2를 리턴했다"
   ]
  },
  {
   "cell_type": "code",
   "execution_count": 5,
   "metadata": {},
   "outputs": [
    {
     "name": "stdout",
     "output_type": "stream",
     "text": [
      "1\n"
     ]
    }
   ],
   "source": [
    "print(1 or 2 and 3 or 4)"
   ]
  },
  {
   "cell_type": "markdown",
   "metadata": {},
   "source": [
    "1 or ~ 연산의 꼴에서 1이 참이기에 뒤의 연산들을 하지도 않고 1을 리턴했다"
   ]
  },
  {
   "cell_type": "code",
   "execution_count": 6,
   "metadata": {
    "scrolled": true
   },
   "outputs": [
    {
     "name": "stdout",
     "output_type": "stream",
     "text": [
      "3\n"
     ]
    }
   ],
   "source": [
    "print((1 or 2) and (3 or 4))"
   ]
  },
  {
   "cell_type": "markdown",
   "metadata": {},
   "source": [
    "괄호를 쳐줬기에 or 연산 두개를 진행했고 1 and 3의 연산에서 앞의 값이 참이므로 뒤의 값인 3을 리턴했다"
   ]
  },
  {
   "cell_type": "markdown",
   "metadata": {},
   "source": [
    "#### 2. 경로에 해당하는 문자열 1개를 입력 받아 그 안에 디렉토리 경로명과 파일명을 분리하여 리스트로 반환하는 함수 div_path(s)를 작성하시오.\n",
    "\n",
    "- 인자로 전달하는 문자열은 경로만 들어간다고 가정한다.\n",
    "- 각 디렉토리와 파일을 구분하는 문자는 '/'로 가정한다.\n",
    "- 반환하는 리스트의 첫번째 원소는 디렉토리이고 두번째 원소는 파일명이다.\n",
    "- 다음과 같은 실행 및 출력 결과가 도출되어야 한다.\n",
    "    - div_path('/usr/local/bin/python')\n",
    "        - ['/usr/local/bin', 'python']\n",
    "    - div_path('/home/chulsoo/test.txt')\n",
    "        - ['/home/chulsoo', 'test.txt']\n",
    "- [참고] 리스트(l) 내에 새로운 정수값 (예를 들어 10)을 넣는 방법은 l.append(10) 이다."
   ]
  },
  {
   "cell_type": "code",
   "execution_count": 3,
   "metadata": {},
   "outputs": [
    {
     "name": "stdout",
     "output_type": "stream",
     "text": [
      "/home/chulsoo/test.txt\n",
      "['/home/chulsoo', 'test.txt']\n"
     ]
    }
   ],
   "source": [
    "def div_path(s) :\n",
    "    for i in range(len(s)) :\n",
    "        if(s[i] == '/') :\n",
    "            a=i\n",
    "    return [s[:a],s[a+1:]]\n",
    "\n",
    "s = input()\n",
    "print(div_path(s))"
   ]
  },
  {
   "cell_type": "markdown",
   "metadata": {},
   "source": [
    "반복문을 통해 문자열의 길이만큼 각 문자를 검사하여 마지막 /의 위치를 a에 저장한다.\n",
    "\n",
    "그 뒤에 슬라이싱을 통해 디렉토리 부분과 파일 부분을 리스트에 저장한다."
   ]
  },
  {
   "cell_type": "markdown",
   "metadata": {},
   "source": [
    "#### 3. 두 개의 리스트를 인자로 받아서 그 두 개의 리스트에 대한 '합집합'을 반환하는 함수 list_union(lista, listb)를 작성하시오.\n",
    "\n",
    "- 인자로 전달하는 리스트 2 개에는 정수값만 들어간다고 가정하자.\n",
    "- 함수 내에서 새로운 리스트를 만들어 그 리스트 내에 인자로 받은 두 리스트의 모든 원소를 넣어 반환한다.\n",
    "- 반환하는 리스트에는 절대로 중복된 원소가 들어 있으면 안된다 (집합의 조건).\n",
    "- 반환하는 리스트는 정렬이 되어 있어야 한다.\n",
    "- 다음과 같은 실행 및 출력 결과가 도출되어야 한다.\n",
    "    - list_union([1, 2, 3], [1, 2, 4])\n",
    "        - [1, 2, 3, 4]\n",
    "    - list_union([-10, -5, 0, -1], [100, 9, 0, 9])\n",
    "        - [-10, -5, -1, 0, 9, 100]\n",
    "    - list_union([0, 1, 2], [0, 1, 2])\n",
    "        - [0, 1, 2]\n",
    "- [참고] 리스트(l) 내에 새로운 정수값 (예를 들어 10)을 넣는 방법은 l.append(10) 이다.\n",
    "- [참고] 임의의 정수값 (x)이 리스트 (l) 내에 존재하는지 판단하는 방법은 x in l 이다."
   ]
  },
  {
   "cell_type": "code",
   "execution_count": 11,
   "metadata": {
    "scrolled": true
   },
   "outputs": [
    {
     "name": "stdout",
     "output_type": "stream",
     "text": [
      "1 2 3\n",
      "3 4 5 -9\n",
      "[-9, 1, 2, 3, 4, 5]\n"
     ]
    }
   ],
   "source": [
    "lista = list(map(int, input().split()))\n",
    "listb = list(map(int, input().split()))\n",
    "def list_union(lista,listb) :\n",
    "    listu = lista\n",
    "    for i in listb :\n",
    "        if(i in listu) :\n",
    "            continue\n",
    "        else :\n",
    "            listu.append(i)\n",
    "    listu.sort()\n",
    "    return listu\n",
    "\n",
    "print(list_union(lista, listb))"
   ]
  },
  {
   "cell_type": "markdown",
   "metadata": {},
   "source": [
    "리스트를 공백으로 구분하여 입력받는다.\n",
    "\n",
    "listb에 있는 원소가 lista에 없으면 추가한다.\n",
    "\n",
    "마지막에 리스트를 정렬한다."
   ]
  },
  {
   "cell_type": "markdown",
   "metadata": {},
   "source": [
    "#### 4.[ACM-ICPC 문제 10809번]\n",
    "\n",
    "- 알파벳 찾기"
   ]
  },
  {
   "cell_type": "code",
   "execution_count": 28,
   "metadata": {
    "scrolled": true
   },
   "outputs": [
    {
     "name": "stdout",
     "output_type": "stream",
     "text": [
      "abcdefghijklmnopqrstuvwxyz\n",
      "0 1 2 3 4 5 6 7 8 9 10 11 12 13 14 15 16 17 18 19 20 21 22 23 24 25\n"
     ]
    }
   ],
   "source": [
    "import string\n",
    "st = input()\n",
    "ab = [-1]*26\n",
    "lower =list(string.ascii_lowercase)\n",
    "for i in range(len(st)) :\n",
    "    for j in range(26) :\n",
    "        ab[j]=st.find(lower[j])\n",
    "for i in range(len(ab)-1) :\n",
    "    print(ab[i], end= \" \")\n",
    "print(ab[25])"
   ]
  },
  {
   "cell_type": "markdown",
   "metadata": {},
   "source": [
    "![11](https://raw.githubusercontent.com/overhead1284/Script-Progrmaing/master/Sub02/4.PNG)"
   ]
  },
  {
   "cell_type": "markdown",
   "metadata": {},
   "source": [
    "26개의 -1을 원소로 가지는 리스트 하나와, a~z를 원소로 가지는 리스트를 생성한다.\n",
    "\n",
    "find를 통해 각 알파벳이 입력받은 문자열에 존재하면 그 위치를 -1 대신에 넣는다.(find는 똑같은 글자나 문자열이 있어도 최초에 나온 위치를 리턴)"
   ]
  },
  {
   "cell_type": "markdown",
   "metadata": {},
   "source": [
    "#### 5. [ACM-ICPC 문제 2675번]\n",
    "\n",
    "- 문자열 반복"
   ]
  },
  {
   "cell_type": "code",
   "execution_count": 23,
   "metadata": {},
   "outputs": [
    {
     "name": "stdout",
     "output_type": "stream",
     "text": [
      "2\n",
      "3 abc\n",
      "4 dfe\n",
      "aaabbbccc\n",
      "ddddffffeeee\n"
     ]
    }
   ],
   "source": [
    "string = []\n",
    "testCase = input()\n",
    "for i in range(int(testCase)) :\n",
    "    inputString = input()\n",
    "    string.append(inputString)\n",
    "for i in range(int(testCase)) :\n",
    "    for j in range(len(string[i])-2) :\n",
    "        print(string[i][j+2]*int(string[i][0]), end=\"\")\n",
    "    print()    \n"
   ]
  },
  {
   "cell_type": "markdown",
   "metadata": {},
   "source": [
    "![11](https://raw.githubusercontent.com/overhead1284/Script-Progrmaing/master/Sub02/5.PNG)"
   ]
  },
  {
   "cell_type": "markdown",
   "metadata": {},
   "source": [
    "testCase에 입력된 수만큼 string 리스트에 저장한다.\n",
    "\n",
    "각 케이스별로 지정된 반복수만큼 문자를 반복해서 출력한다."
   ]
  },
  {
   "cell_type": "markdown",
   "metadata": {},
   "source": [
    "#### *. Incremental Project 문제\n",
    "- 웹 URL로 지정된 웹페이지를 문자열로 가져와 다음의 프로그램을 작성하시오.\n",
    "    - 모든 HTML 태그를 제외한 순수 텍스트 문자열만을 걸러내고, \n",
    "    - 그 순수 텍스트 문자열 안에 존재하는 단어가 총 몇개인지 출력해야한다. \n",
    "\n",
    "- HTML 태그는 다음 조건을 가지는 것이다.\n",
    "\n",
    "    - < 로 시작하여 >로 끝난다.\n",
    "    - 예를 들어, 아래와 같은 HTML 내용 내에 한 줄이 있다고 가정하자.\n",
    "    - <label for=\"keep_signed\">로그인 유지</label>\n",
    "    - 위 소스에서 HTML 태그를 제외한 순수 텍스트 문자열은 아래와 같다.\n",
    "    - 로그인 유지\n",
    "    - 한편, 아래와 같은 HTML 한 줄이 있다고 가정하자.\n",
    "    - <link rel=\"stylesheet\" href=\"/common/css/xe.min.css?20150910092654\" />\n",
    "    - 위 한 줄은 HTML 태그로만 구성된 것이며 걸러낼 수 있는 순수 텍스 문자열은 존재하지 않는다.\n",
    "- 단어를 나누는 기준은 오로지 공백문자 (whitespace)이다.\n",
    "\n",
    "    - 즉, 위 순수 텍스트 문자열인 \"로그인 유지\"에서 분리한 단어는 \"로그인\"과 \"유지\"이다.\n",
    "- 중복을 고려하지 않고 무조건 모든 단어의 개수를 세어서 출력한다.\n",
    "- 본 숙제를 위하여 HTML 파싱과 관련된 모듈 (예. BeautifulSoup) 사용 금지\n",
    "- 다음은 URL로 지정된 웹페이지를 특정 문자열로 가져오는 코드이다.\n",
    "    - 즉, 숙제 코드는 아래 코드로 부터 시작해야 한다.\n",
    "    - 아래 코드 수행시 requests 모듈이 존재하지 않는 에러가 발생하면 command 창에서 다음 코드 입력하여 requests 모듈 설치후 아래 코드 수행"
   ]
  },
  {
   "cell_type": "code",
   "execution_count": 24,
   "metadata": {},
   "outputs": [],
   "source": [
    "import requests\n",
    "\n",
    "req = requests.get('http://cse.koreatech.ac.kr')\n",
    "\n",
    "source = req.text\n",
    "source2 = \"\"\n",
    "state = 0\n",
    "for i in range(len(source)) :\n",
    "    if(state == 0) :\n",
    "        if(source[i] == '<') : \n",
    "            state = 1\n",
    "        else :    \n",
    "            source2 = source2 + source[i]\n",
    "    if(state == 1) :\n",
    "        if(source[i] == '>' or source[i] == '\\n') :\n",
    "            state = 0            \n",
    "        "
   ]
  },
  {
   "cell_type": "code",
   "execution_count": 31,
   "metadata": {
    "scrolled": true
   },
   "outputs": [
    {
     "name": "stdout",
     "output_type": "stream",
     "text": [
      "529\n"
     ]
    }
   ],
   "source": [
    "print(len(source2.split()))\n",
    "#print(source2.split())"
   ]
  },
  {
   "cell_type": "markdown",
   "metadata": {},
   "source": [
    "state를 주어 0인경우는 <이 나오지 않은경우, 1은 <이 나온경우로 구분하였다.\n",
    "\n",
    "<이 나오지 않은 경우 각 문자를 source2에 저장하도록 하였다.\n",
    "\n",
    "<이 나온 경우에는 >이나 개행문자가 나올때까지 무시하도록 하였다.\n",
    "\n",
    "이렇게 만든 source2를 split()을 통해 공백으로 구분된 단어의 수를 세었다."
   ]
  },
  {
   "cell_type": "markdown",
   "metadata": {},
   "source": [
    "### 소감\n",
    "- 파이썬을 배우면서 문자열과 관련하여 재미있고 편리한 함수들이 많아서 과제를 푸는 동안 재미있었다. 특히 백준쪽 문제를 풀때는 인터넷에서 아직 배우지않은 함수들의 사용법을 찾아서 사용해봤는데 상당히 유용했다. 자바와 c++과는 문법적으로 다른 부분이 많기 때문에 헷갈리는 경우가 몇 있었는데 앞으로는 헷갈리지 않도록 코딩을 많이 해봐야겠다고 생각하는 계기가 된 과제였다."
   ]
  }
 ],
 "metadata": {
  "kernelspec": {
   "display_name": "Python 3",
   "language": "python",
   "name": "python3"
  }
 },
 "nbformat": 4,
 "nbformat_minor": 2
}
