{
 "cells": [
  {
   "cell_type": "markdown",
   "metadata": {},
   "source": [
    "# Assignment 4"
   ]
  },
  {
   "cell_type": "markdown",
   "metadata": {},
   "source": [
    "### 2015136020 김민기"
   ]
  },
  {
   "cell_type": "markdown",
   "metadata": {},
   "source": [
    "1) 파일 s.txt 내의 다음 내용과 함께 아래 문제의 코드를 제시하시오."
   ]
  },
  {
   "cell_type": "code",
   "execution_count": 31,
   "metadata": {},
   "outputs": [
    {
     "name": "stdout",
     "output_type": "stream",
     "text": [
      "['pig ham\\n', 'cat dog\\n', 'ham bird\\n', 'dog pig\\n']\n"
     ]
    }
   ],
   "source": [
    "temp = []\n",
    "with open('s.txt','r') as f : #기본적으로 파일에서 문자를 읽어옴\n",
    "    for line in f :\n",
    "        if line.find('\\n') < 0 : #개행문자로 끝나지 않는 경우 개행문자 추가\n",
    "            temp.append(line + '\\n') \n",
    "        else :\n",
    "            temp.append(line)\n",
    "print(temp)"
   ]
  },
  {
   "cell_type": "markdown",
   "metadata": {},
   "source": [
    "- 파일 s.txt을 읽어서 각 라인에 있는 첫 번째 단어(문자열) 자체들을 기준으로 라인별 정렬후 파일 s1.txt에 그 결과를 기록하는 코드를 작성하시오."
   ]
  },
  {
   "cell_type": "code",
   "execution_count": 27,
   "metadata": {},
   "outputs": [],
   "source": [
    "with open('s1.txt', 'w') as f : \n",
    "    f.writelines(sorted(temp)) #정렬 후 저장"
   ]
  },
  {
   "cell_type": "markdown",
   "metadata": {},
   "source": [
    "- 파일 s.txt을 읽어서 각 라인에 있는 두 번째 단어(문자열) 자체들을 기준으로 라인별 정렬후 파일 s2.txt에 그 결과를 기록하는 코드를 작성하시오."
   ]
  },
  {
   "cell_type": "code",
   "execution_count": 32,
   "metadata": {},
   "outputs": [],
   "source": [
    "def sec(a) : #두번째 단어를 기준으로 정렬\n",
    "    return a[4:]\n",
    "with open('s2.txt', 'w') as f :\n",
    "    f.writelines(sorted(temp,key=sec))"
   ]
  },
  {
   "cell_type": "markdown",
   "metadata": {},
   "source": [
    "- 파일 s.txt을 읽어서 각 라인들에 있는 모든 단어들을 순차적으로 다시 나열하되 각 라인에 세 개의 단어들이 오도록 하여 s3.txt에 기록하는 코드를 작성하시오."
   ]
  },
  {
   "cell_type": "code",
   "execution_count": 33,
   "metadata": {},
   "outputs": [],
   "source": [
    "with open('s3.txt', 'w') as f :\n",
    "    cnt = 0\n",
    "    temp = '\\n'.join(temp).split() #모든 단어들을 줄단위로 나눠서 저장\n",
    "    for i in temp :\n",
    "        f.write(i)\n",
    "        cnt += 1 #한 줄에 쓰이는 단어 수\n",
    "        if cnt == 3 : # 단어 세 개를 쓰면 개행\n",
    "            f.write('\\n')\n",
    "            cnt = 0\n",
    "        else :\n",
    "            f.write(' ')"
   ]
  },
  {
   "cell_type": "markdown",
   "metadata": {},
   "source": [
    "2) 회원 가입 및 로그인 프로그램을 작성하시오"
   ]
  },
  {
   "cell_type": "code",
   "execution_count": 41,
   "metadata": {},
   "outputs": [
    {
     "name": "stdout",
     "output_type": "stream",
     "text": [
      "Welcome to Our Service\n",
      "\n",
      "    1. Sign Up\n",
      "    2. Sign In\n",
      "    3. Quit\n",
      "    1\n",
      "ID :alsrl\n",
      "Password : 123123\n",
      "Name : 김민기\n",
      "School :한국기술교육대학교\n",
      "Welcome to Our Service\n",
      "\n",
      "    1. Sign Up\n",
      "    2. Sign In\n",
      "    3. Quit\n",
      "    2\n",
      "ID :alsrl\n",
      "Password : 123123\n",
      "Hello [김민기]\n",
      "Welcome to Our Service\n",
      "\n",
      "    1. Sign Up\n",
      "    2. Sign In\n",
      "    3. Quit\n",
      "    3\n",
      "Program exit!\n"
     ]
    }
   ],
   "source": [
    "import hashlib # 비밀번호 암호화를 위한 hashlib 모듈\n",
    "def readAccess(s) : #access.txt 파일의 내용을 읽어오는 함수\n",
    "    l = [':', ',']\n",
    "    for i in l :\n",
    "        s = ' '.join(s.split(i))\n",
    "        a = s.split()\n",
    "    for i in range(len(a)) :\n",
    "        a[i] = a[i][1:-1]\n",
    "    return a\n",
    "\n",
    "def Password_encrypted(Password) : #비밀번호를 암호화시키는 함수\n",
    "    sha = hashlib.new('sha1')\n",
    "    sha.update(Password.encode(\"UTF-8\"))\n",
    "    return sha.hexdigest()\n",
    "\n",
    "while True :\n",
    "    s = input('''Welcome to Our Service \n",
    "\n",
    "    1. Sign Up\n",
    "    2. Sign In\n",
    "    3. Quit\n",
    "    ''')\n",
    "    with open('access.txt', 'a') as f : #access.txt 파일 생성\n",
    "        pass\n",
    "    if s == '1' : #회원 가입\n",
    "        with open('access.txt', 'r') as f :\n",
    "            IDs = []\n",
    "            for line in f : #저장되어있는 ID정보를 불러옴\n",
    "                IDs.append(readAccess(line)[0])\n",
    "            while True : #중복 ID일 경우에는 재입력 받는 루프\n",
    "                ID = input('ID :')\n",
    "                if ID in IDs :\n",
    "                    print('Sorry, the entered ID is already used.')\n",
    "                else :\n",
    "                    break;\n",
    "        Password = input('Password : ')\n",
    "        Name = input('Name : ')\n",
    "        School = input('School :')\n",
    "        with open('access.txt', 'a') as f : #ID, Password(암호화), 이름, 학교 파일에 저장\n",
    "            f.write('[' + ID + ']: [' + Password_encrypted(Password) + '], [' + Name + '], [' + School + ']\\n')\n",
    "    if s == '2' : # 로그인\n",
    "        with open('access.txt', 'r') as f :\n",
    "            IDs = []\n",
    "            Passwords = []\n",
    "            Names = []\n",
    "            for line in f :# access.txt 파일에서 ID,Password,이름을 가져옴\n",
    "                IDs.append(readAccess(line)[0])\n",
    "                Passwords.append(readAccess(line)[1])\n",
    "                Names.append(readAccess(line)[2])\n",
    "            while True : #등록되어있지 않은 ID일 경우 재입력 받는 루프\n",
    "                ID = input('ID :')\n",
    "                if ID in IDs :\n",
    "                    break\n",
    "                else :\n",
    "                    print('Sorry, you are not a registered member.')\n",
    "            while True : #비밀 번호가 정확하지 않으면 재입력 받는 루프\n",
    "                Password = input(\"Password : \")\n",
    "                if Password_encrypted(Password) != Passwords[IDs.index(ID)] :\n",
    "                    print('Sorry, the entered password is not correct.')\n",
    "                else :\n",
    "                    break\n",
    "            print('Hello [' + Names[IDs.index(ID)] + ']') #정상 로그인 메세지\n",
    "    if s == '3' : #프로그램 종료\n",
    "        print('Program exit!')\n",
    "        break"
   ]
  },
  {
   "cell_type": "markdown",
   "metadata": {},
   "source": [
    "3) range() 함수와 유사한 frange() 함수를 다음 조건을 참고하여 만드시오."
   ]
  },
  {
   "cell_type": "code",
   "execution_count": 43,
   "metadata": {},
   "outputs": [
    {
     "name": "stdout",
     "output_type": "stream",
     "text": [
      "[0.0, 0.1, 0.2, 0.3, 0.4]\n",
      "[1.0, 1.1, 1.2, 1.3, 1.4, 1.5, 1.6, 1.7, 1.8, 1.9]\n",
      "[2.2, 2.7, 3.2, 3.7]\n"
     ]
    }
   ],
   "source": [
    "def frangeCalc(start, stop, step = 0.1) : #소수 형태의 range 계산 함수\n",
    "    l = []\n",
    "    while start < stop : #stop을 넘지 않는 선에서 step만큼 리스트에 추가\n",
    "        l.append(round(start,5))\n",
    "        start += step\n",
    "    print(l)\n",
    "    \n",
    "def frange(*args) : #소수 형태의 range 함수\n",
    "    if len(args) == 1 : # 인자가 1개인 경우\n",
    "        frangeCalc(0.0, args[0])\n",
    "    elif len(args) == 2 : # 인자가 2개인 경우\n",
    "        frangeCalc(args[0], args[1])\n",
    "    else : #인자가 3개 이상인 경우(4번째 인자부터는 무시)\n",
    "        frangeCalc(args[0], args[1], args[2])\n",
    "    \n",
    "\n",
    "frange(0.5)\n",
    "frange(1.0, 2.0)\n",
    "frange(2.2, 4.0, 0.5)\n"
   ]
  },
  {
   "cell_type": "markdown",
   "metadata": {},
   "source": [
    "4) 가변인수를 받는 함수 sum()을 다음과 같은 조건을 참고하여 구현하시오"
   ]
  },
  {
   "cell_type": "code",
   "execution_count": 45,
   "metadata": {},
   "outputs": [
    {
     "name": "stdout",
     "output_type": "stream",
     "text": [
      "0\n",
      "5\n"
     ]
    }
   ],
   "source": [
    "def sum(*args) :\n",
    "    temp = 0\n",
    "    for i in args : #모든 인자를 temp에 순서대로 더하여 저장\n",
    "        temp += i\n",
    "    return temp\n",
    "\n",
    "print(sum())\n",
    "print(sum(1,5,7,2,-10))"
   ]
  },
  {
   "cell_type": "markdown",
   "metadata": {},
   "source": [
    "5) 여러 단어로 이루어진 문자열을 입력받아 각 단어의 첫글자로 이루어진 단어를 대문자로 출력하는 myinitial() 함수를 다음 조건을 참고하여 작성하시오."
   ]
  },
  {
   "cell_type": "code",
   "execution_count": 46,
   "metadata": {},
   "outputs": [
    {
     "name": "stdout",
     "output_type": "stream",
     "text": [
      "SSAD\n"
     ]
    }
   ],
   "source": [
    "def myinitial(s) :\n",
    "    #람다함수를 이용해 각 단어의 첫글자만 대문자로 변경하여 map에 넘겨주고, 그 단어들을 join으로 하나의 문자열로 합침\n",
    "    print(''.join(map(lambda c : c[:1].upper(),s.split()))) \n",
    "\n",
    "myinitial('s ss af df')"
   ]
  },
  {
   "cell_type": "markdown",
   "metadata": {},
   "source": [
    "6) 음이 아닌 정수 n를 입력받으면 n! (factorial)을 계산하는 myfact() 함수를 재귀적 함수로 구현하시오."
   ]
  },
  {
   "cell_type": "code",
   "execution_count": 49,
   "metadata": {},
   "outputs": [
    {
     "name": "stdout",
     "output_type": "stream",
     "text": [
      "3628800\n"
     ]
    }
   ],
   "source": [
    "def myfact(n) :\n",
    "    if n == 0 : # 마지막의 경우 1 리턴\n",
    "        return 1 \n",
    "    else :\n",
    "        return n * myfact(n-1) # n * (n-1)!\n",
    "\n",
    "print(myfact(10))"
   ]
  },
  {
   "cell_type": "markdown",
   "metadata": {},
   "source": [
    "7) (서술형) import string 과 from string import * 의 차이점을 설명하시오."
   ]
  },
  {
   "cell_type": "markdown",
   "metadata": {},
   "source": [
    "- import string은 string 관련 함수를 사용할 때 string.~ 으로 사용해야한다. 즉, 현재 네임스페이스에 string 모듈을 그냥 가져온 것이다\n",
    "- from string import *은 string 모듈의 모든 public 속성/함수를 현재 네임스페이스 안으로 가지고 온다. 즉, string. 없이 사용 가능하다"
   ]
  },
  {
   "cell_type": "markdown",
   "metadata": {},
   "source": [
    "#### *. Incremental Project 문제"
   ]
  },
  {
   "cell_type": "code",
   "execution_count": 59,
   "metadata": {},
   "outputs": [
    {
     "ename": "SyntaxError",
     "evalue": "invalid syntax (<ipython-input-59-4e743f83b7e1>, line 22)",
     "output_type": "error",
     "traceback": [
      "\u001b[1;36m  File \u001b[1;32m\"<ipython-input-59-4e743f83b7e1>\"\u001b[1;36m, line \u001b[1;32m22\u001b[0m\n\u001b[1;33m    if(s == i) s = \"\"\u001b[0m\n\u001b[1;37m               ^\u001b[0m\n\u001b[1;31mSyntaxError\u001b[0m\u001b[1;31m:\u001b[0m invalid syntax\n"
     ]
    }
   ],
   "source": [
    "import requests\n",
    "import string\n",
    "import pickle\n",
    "import os\n",
    "\n",
    "def stopWords() : # 불용어 리스트 (영어, 한국어 2개의 리스트 반환, 글자 길이순 정렬)\n",
    "    stopWord_en = []\n",
    "    stopWord_ko = []\n",
    "    req = requests.get('http://www.lextek.com/manuals/onix/stopwords1.html')\n",
    "    source = req.text\n",
    "    stopWord_en.extend(source[source.index('#\\n\\n') + 9:source.index('</pre>')].split())\n",
    "    req = requests.get('https://raw.githubusercontent.com/stopwords-iso/stopwords-ko/master/stopwords-ko.txt')\n",
    "    source = req.text\n",
    "    stopWord_ko.extend(source.split('\\n'))\n",
    "    return sorted(stopWord_en, key = lambda s : len(s), reverse = True), sorted(stopWord_ko, key = lambda s : len(s), reverse = True)\n",
    "\n",
    "def removeStopWords (s) : # 문자열에서 불용어를 제거하는 함수\n",
    "    en, ko = stopWords()\n",
    "    for i in en[:-26] :\n",
    "        s = s.replace(i + \" \" ,\" \")\n",
    "        s = s.replace(\" \" + i,\" \")\n",
    "        if(s == i) s = \"\" \n",
    "    for i in en[-26:] :\n",
    "        s = s.replace(\" \" + i + \" \", \" \")\n",
    "    for i in ko[:575] :\n",
    "        s = s.replace(i,\"\")\n",
    "    for i in ko[576:644] :\n",
    "        if s[-1:] == i :\n",
    "            s = s[:-1]\n",
    "            break\n",
    "    for i in ko[645:] :\n",
    "        s = s.replace(i,\"\")\n",
    "    return s\n",
    "        \n",
    "def freq(l) :\n",
    "    d = {}\n",
    "    for i in l :\n",
    "        if i in d :\n",
    "            d[i] += 1\n",
    "        else :\n",
    "            d[i] = 1\n",
    "    return d\n",
    "\n",
    "def Search(s) :\n",
    "    req = requests.get(s)\n",
    "    source = req.text\n",
    "    source2 = \"\"\n",
    "    text = []\n",
    "    while(1) :\n",
    "        source = source.replace('&nbsp','')\n",
    "        source = source[source.find('<'):] \n",
    "        if source.find(\"<!--\") == 0 : \n",
    "            source = source[source.find(\"-->\")+3:] \n",
    "        elif source.find(\"<script>\") == 0 : \n",
    "            source = source[source.find(\"</script>\")+9:] \n",
    "        elif source.find(\"<style>\") == 0 :\n",
    "            source = source[source.find(\"</style>\")+9:]\n",
    "        else :\n",
    "            source = source[source.find('>')+1:] \n",
    "            for ch in source :    \n",
    "                if ch == '<' : \n",
    "                    break    \n",
    "                else : source2 += ch       \n",
    "        if(source.find('<') == -1):\n",
    "            break\n",
    "    for i in string.punctuation :\n",
    "        source2 = ' '.join(source2.split(i))\n",
    "    \n",
    "    source2 = removeStopWords(source2)\n",
    "    return freq(source2.split())\n",
    "\n",
    "def pickle_save(s) :\n",
    "    if not os.path.isdir('save') :\n",
    "        os.makedirs('save')\n",
    "    f = open('save/' + s[7:] + '.pickle', 'wb')\n",
    "    pickle.dump(Search(s), f)\n",
    "    f.close\n",
    "    f2 = open('save/' + s[7:] + '.html', 'wb')\n",
    "    pickle.dump(requests.get(s).text, f2)\n",
    "    f2.close\n",
    "def pickle_load(s) :\n",
    "    f = open('save/' + s[7:] + '.pickle', 'rb')\n",
    "    l = sorted(list(pickle.load(f).items()),key = lambda k : k[1], reverse = True)\n",
    "    return l[0:3]\n",
    "\n",
    "def similarity(s, site) :\n",
    "    sim = 0\n",
    "    l = pickle_load(site)\n",
    "    for i in removeStopWords(s).split() :\n",
    "        if i in l[0][0] :\n",
    "            sim += len(i)/len(l[0][0])*3\n",
    "        if i in l[1][0] :\n",
    "            sim += len(i)/len(l[1][0])*2\n",
    "        if i in l[2][0] :\n",
    "            sim += len(i)/len(l[2][0])    \n",
    "    return site, sim\n",
    "\n",
    "    \n",
    "\n"
   ]
  },
  {
   "cell_type": "code",
   "execution_count": 61,
   "metadata": {},
   "outputs": [
    {
     "data": {
      "text/plain": [
       "' '"
      ]
     },
     "execution_count": 61,
     "metadata": {},
     "output_type": "execute_result"
    }
   ],
   "source": [
    "removeStopWords(\"above \")"
   ]
  },
  {
   "cell_type": "code",
   "execution_count": null,
   "metadata": {},
   "outputs": [],
   "source": []
  },
  {
   "cell_type": "markdown",
   "metadata": {},
   "source": [
    "### 소감\n",
    "- 백준 문제를 풀면서 알고리즘 적인 부분보다 입력할 개수가 정해지지 않은 입력에 대해 처리하는 것을 어떻게 해야할지 몰라서 한참동안 고민하고 여러 시도를 해보았다. 결국에는 찾아다가 하긴 했지만 부족한 점이 많이 느껴지는 과제였다. 인크리멘탈 프로젝트는 이제 무언가 의미있는 내용을 출력하고 있다는 느낌이 들어 뿌듯했다."
   ]
  }
 ],
 "metadata": {
  "kernelspec": {
   "display_name": "Python 3",
   "language": "python",
   "name": "python3"
  },
  "language_info": {
   "codemirror_mode": {
    "name": "ipython",
    "version": 3
   },
   "file_extension": ".py",
   "mimetype": "text/x-python",
   "name": "python",
   "nbconvert_exporter": "python",
   "pygments_lexer": "ipython3",
   "version": "3.6.5"
  }
 },
 "nbformat": 4,
 "nbformat_minor": 2
}
