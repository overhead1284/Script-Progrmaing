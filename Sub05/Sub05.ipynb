{
 "cells": [
  {
   "cell_type": "markdown",
   "metadata": {},
   "source": [
    "# Assignment 5"
   ]
  },
  {
   "cell_type": "markdown",
   "metadata": {},
   "source": [
    "### 2015136020 김민기"
   ]
  },
  {
   "cell_type": "markdown",
   "metadata": {},
   "source": [
    "1) 클래스와 모듈의 공통점과 차이점에 대해 설명하시오."
   ]
  },
  {
   "cell_type": "markdown",
   "metadata": {},
   "source": [
    "공통점\n",
    "- 둘 다 코드를 재사용하는데 쓰인다.\n",
    "- 별도의 스코프를 제공하기에 동일한 이름의 변수나 함수를 독립적으로 정의할 수 있다.\n",
    "\n",
    "차이점\n",
    "- 모듈은 변수, 함수, 클래스 등을 포함한 파일 단위(.py)로 저장된다. 즉, 클래스 보다 상위의 개념이라고 할 수 있다.\n",
    "- 모듈의 스코프는 파일, 클래스의 스코프는 클래스 영역 내 이다."
   ]
  },
  {
   "cell_type": "markdown",
   "metadata": {},
   "source": [
    "2) 다형성에 대해 설명하고 다형성을 보여주는 자신만의 파이썬 코드 예제를 제시하시오."
   ]
  },
  {
   "cell_type": "markdown",
   "metadata": {},
   "source": [
    "다형성이란 상속 관계 내의 클래스들의 객체들이 같은 멤버 함수에 대해서 각각 다르게 작동하는 것을 말한다. 예를 들어서 Teacher 클래스의 자식 클래스들(MathTeacher, EnglishTeacher 등등)이 수업을 한다는 것은 같지만 수업의 내용은 모두 다르다."
   ]
  },
  {
   "cell_type": "code",
   "execution_count": 11,
   "metadata": {},
   "outputs": [
    {
     "name": "stdout",
     "output_type": "stream",
     "text": [
      "1+1 = ....\n",
      "English is .....\n"
     ]
    }
   ],
   "source": [
    "class Teacher :\n",
    "    def Teaching(self) : # 부모 클래스의 메소드\n",
    "        pass\n",
    "class MathTeacher(Teacher) :\n",
    "    def Teaching(self) : # 오버라이딩한 메소드\n",
    "        print(\"1+1 = ....\")\n",
    "class EnglishTeacher(Teacher) :\n",
    "    def Teaching(self) : # 오버라이딩한 메소드\n",
    "        print(\"English is .....\")\n",
    "        \n",
    "for each in (MathTeacher(), EnglishTeacher()):\n",
    "    each.Teaching()"
   ]
  },
  {
   "cell_type": "markdown",
   "metadata": {},
   "source": [
    "3) 다음 각 요구사항 모두를 만족시키는 Counter 클래스를 코딩하시오\n",
    "- 생성자에 count 값과 step 값을 인자로 받을 수 있다.\n",
    "- 다음과 같이 Counter의 인스턴스를 출력을 해주는 __str__() 메소드를 Counter 클래스 내에 구현하시오.\n",
    "- 다음과 같이 step에 주어진 증분만큼 count를 증가시키는 incr() 메소드를 Counter 클래스 내에 구현하시오.\n",
    "- Counter 클래스 내에 관련 메소드를 추가하여 인스턴스 객체를 직접 호출(call)할 수 있도록 하시오. 인스턴스 객체를 직접 호출했을 때에 내부적으로 incr() 메소드를 호출하는 방법으로 구현하시오.\n",
    "- 다음과 같은 두 개의 산술 연산 (+, -)이 수행될 수 있도록 Counter 클래스 내에 관련 메소드를 추가하시오.\n",
    "- 다음과 같은 관계연산 (>, <, ==)이 수행될 수 있도록 Counter 클래스 내에 관련 메소드를 추가하시오."
   ]
  },
  {
   "cell_type": "code",
   "execution_count": 25,
   "metadata": {},
   "outputs": [],
   "source": [
    "class Counter :\n",
    "    def __init__(self, count, step = 1):\n",
    "        self.count = count\n",
    "        self.step = step\n",
    "    def __str__(self) :\n",
    "        return \"[Count(step: \" + str(self.step) +\")]\" + str(self.count)\n",
    "    def incr(self) :\n",
    "        self.count += self.step\n",
    "    def __call__(self) :\n",
    "        self.incr()\n",
    "    def __add__(self, A) :\n",
    "        return Counter(self.count + A, self.step)\n",
    "    def __sub__(self, A) :\n",
    "        return Counter(self.count - A, self.step)\n",
    "    def __lt__(self, A) :\n",
    "        return self.count < A\n",
    "    def __gt__(self, A) :\n",
    "        return self.count > A\n",
    "    def __eq__(self, A) :\n",
    "        return self.count == A"
   ]
  },
  {
   "cell_type": "markdown",
   "metadata": {},
   "source": [
    "4) MySet 클래스 정의 내용이다. 다음 클래스 정의에서 __init__(), __str()__(), elimicate_duplicate()의 세 개의 메소드 코드 내용을 자신이 다른 사람에게 가르친다고 생각하며 설명해보시오."
   ]
  },
  {
   "cell_type": "markdown",
   "metadata": {},
   "source": [
    "- init()은 생성자이다. MySet은 만들어질 때 주어진 리스트의 원소들을 자신한테 모두 추가한다. 그리고 뒤에 설명할 eliminate_duplicate() 함수를 이용하여 중복 원소를 모두 제거한다. 이 과정을 거친 뒤에 중복된 원소가 없는 집합 MySet이 만들어진다.\n",
    "- str()은 print에 대응되는 메소드이다. 출력될 때 프로그래머의 의도대로 출력될 수 있도록 출력 형식을 지정해줄 수 있다. 먼저 'MySet: {' 부분을 출력한 뒤에 해당 집합의 모든 원소를 차례대로 출력한 뒤에 '}' 로 마무리한다.\n",
    "- eliminate_duplicate() 함수는 중복원소를 제거하는 함수이다. 리스트 하나를 인자로 받아서 리스트에서 not in을 통해 중복되지 않는 것만 임시 리스트에 옮겨놓은 뒤 인자로 받은 리스트를 공백 상태로 만들고 임시 리스트의 내용을 옮겨 닮는 함수이다."
   ]
  },
  {
   "cell_type": "markdown",
   "metadata": {},
   "source": [
    "5) 4번 문제에 정의된 MySet 클래스에 메소드를 추가하여 다음 각 요구사항 모두를 만족시키는 코딩을 제시하시오.\n",
    "- | 연산으로 두 집합의 합집합을 반환한다.\n",
    "- & 연산으로 두 집합의 교집합을 반환한다.\n",
    "- - 연산으로 두 집합의 차집합을 반환한다."
   ]
  },
  {
   "cell_type": "code",
   "execution_count": 13,
   "metadata": {},
   "outputs": [
    {
     "name": "stdout",
     "output_type": "stream",
     "text": [
      "MySet: {1 ,2 ,3}\n",
      "MySet: {2 ,3 ,4 ,5 ,6 ,7 ,8 ,9}\n",
      "MySet: {1}\n"
     ]
    }
   ],
   "source": [
    "class MySet(list):\n",
    "    def __init__(self, l):\n",
    "        for e in l:\n",
    "            self.append(e)\n",
    "        MySet.eliminate_duplicate(self)\n",
    "    \n",
    "    def __str__(self):\n",
    "        result = \"MySet: {\"\n",
    "        for e in self:\n",
    "            result = result + str(e) + \" ,\"\n",
    "        result = result[0:len(result)-2] + \"}\"\n",
    "        return result\n",
    "    def __or__ (A, B) :\n",
    "        return MySet(A + B)\n",
    "    def __and__(A, B) :\n",
    "        C = []\n",
    "        for i in B :\n",
    "            if i in A :\n",
    "                C.append(i)\n",
    "        return MySet(C)\n",
    "    def __sub__(A, B) :\n",
    "        for i in B :\n",
    "            if i in A :\n",
    "                A.remove(i)\n",
    "        return MySet(A)\n",
    "    @staticmethod    \n",
    "    def eliminate_duplicate(l):\n",
    "        s = []\n",
    "        for e in l:\n",
    "            if e not in s:\n",
    "                s.append(e)\n",
    "        l[:] = []\n",
    "        for e in s:\n",
    "            l.append(e)\n",
    "\n",
    "    \n",
    "if __name__ == \"__main__\":\n",
    "    s = MySet([1, 2, 2, 3])\n",
    "    print(s)\n",
    "    t = MySet([2, 3, 4, 5, 6, 7, 8, 8, 8, 8, 8, 9])\n",
    "    print(t)\n",
    "    a = s - t\n",
    "    print(a)"
   ]
  },
  {
   "cell_type": "markdown",
   "metadata": {},
   "source": [
    "6) 5번 문제에서 정의한 MySet 클래스에 대해 다음 예제를 수행하면 오류없이 올바르게 동작하는 것을 확인할 수 있다. 다음 예제 내에 있는 len(), bool() 내장함수와 in 키워드 사용 예제가 별다른 메소드 정의를 하지 않았는 데도 올바르게 수행되는 이유를 설명하시오."
   ]
  },
  {
   "cell_type": "markdown",
   "metadata": {},
   "source": [
    "- class MySet(list): 부분에서 알 수 있듯이 MySet 클래스는 list를 상속받았다. 따라서 list에서 지원하는 메소드인 len, bool 등을 사용할 수 있는 것이다."
   ]
  },
  {
   "cell_type": "markdown",
   "metadata": {},
   "source": [
    "7) 새로운 클래스 SearchEngine를 정의하시오."
   ]
  },
  {
   "cell_type": "code",
   "execution_count": 2,
   "metadata": {},
   "outputs": [],
   "source": [
    "import requests\n",
    "import string\n",
    "class SearchEngine :\n",
    "    def __init__(self, *arg) : # 생성자 주소를 여러개 받아서 내부 변수에 저장해 둔다(중복 x)\n",
    "        self.siteList = []\n",
    "        for i in list(arg) :\n",
    "            if not i in self.siteList :\n",
    "                self.siteList.append(i)\n",
    "        print(self.siteList)\n",
    "        \n",
    "    def addUrl(self, s) : # 주소를 추가한다 (중복 x)\n",
    "        if not s in self.siteList :\n",
    "            self.siteList.append(s)\n",
    "        else :\n",
    "            print(\"This URL is already exist\")\n",
    "            \n",
    "    def removeUrl(self, s) : # 주소를 제거 한다\n",
    "        if s in self.siteList :\n",
    "            self.siteList.remove(s)\n",
    "        else :\n",
    "            print(\"This URL is not exist\")\n",
    "            \n",
    "    def listUrls(self) : # 존재하는 모든 주소 출력\n",
    "        for i in self.siteList :\n",
    "            print(i)\n",
    "            \n",
    "    def Search(self, s) : # 기존의 Search 함수\n",
    "        req = requests.get(s)\n",
    "        source = req.text\n",
    "        source2 = \"\"\n",
    "        text = []\n",
    "        while(1) :\n",
    "            source = source.replace('&nbsp','') \n",
    "            source = source[source.find('<'):] \n",
    "            if source.find(\"<!--\") == 0 : \n",
    "                source = source[source.find(\"-->\")+3:] \n",
    "            elif source.find(\"<script\") == 0 : \n",
    "                source = source[source.find(\"</script>\")+9:] \n",
    "            elif source.find(\"<style\") == 0 :\n",
    "                source = source[source.find(\"</style>\")+9:]\n",
    "            else :\n",
    "                source = source[source.find('>')+1:] \n",
    "                for ch in source :    \n",
    "                    if ch == '<' : \n",
    "                        break    \n",
    "                    else : source2 += ch       \n",
    "            if(source.find('<') == -1):\n",
    "                break\n",
    "        for i in string.punctuation :\n",
    "            source2 = ' '.join(source2.split(i))\n",
    "\n",
    "        source2 = self.removeStopWords(source2)\n",
    "        return source2.split()\n",
    "    \n",
    "    def getWordsFrequency(self) : # 단어의 출력 빈도를 사전으로 반환하는 함수\n",
    "        wordsFreq = {}\n",
    "        for i in self.siteList :\n",
    "            for j in self.Search(i) :\n",
    "                if j in wordsFreq :\n",
    "                    wordsFreq[j] += 1\n",
    "                else :\n",
    "                    wordsFreq[j] = 1\n",
    "        return wordsFreq\n",
    "    \n",
    "    def getMaxFreqencyWords(self) : # 출현 빈도가 가장 높은 단어 반환\n",
    "        if self.siteList == [] :\n",
    "            return None\n",
    "        sortedWords = sorted(list(self.getWordsFrequency().items()),key = lambda k : k[1], reverse = True) # 빈도순으로 정렬\n",
    "        maxWords = []\n",
    "        for i in range(len(sortedWords)) :\n",
    "            if sortedWords[0][1] == sortedWords[i][1] :\n",
    "                maxWords.append(sortedWords[i][0])\n",
    "            else :\n",
    "                break\n",
    "        return maxWords\n",
    "    \n",
    "    def searchUrlByWords(self, word) : # 단어와 가장 유사도가 높은 주소 반환\n",
    "        simRank = []\n",
    "        for i in self.siteList :\n",
    "            simRank.append(similarity(word, i))\n",
    "        simRank.sort(key = lambda s : s[1], reverse = True)\n",
    "        for i in range(len(simRank)) :\n",
    "            if simRank[0][1] == simRank[i][1] :\n",
    "                print(simRank[i][0])\n",
    "            else :\n",
    "                break\n",
    "                \n",
    "    def stopWords(self) : # 불용어 리스트 (영어, 한국어 2개의 리스트 반환, 글자 길이순 정렬)\n",
    "        stopWord_en = []\n",
    "        stopWord_ko = []\n",
    "        req = requests.get('http://www.lextek.com/manuals/onix/stopwords1.html')\n",
    "        source = req.text\n",
    "        stopWord_en.extend(source[source.index('#\\n\\n') + 9:source.index('</pre>')].split())\n",
    "        req = requests.get('https://raw.githubusercontent.com/stopwords-iso/stopwords-ko/master/stopwords-ko.txt')\n",
    "        source = req.text\n",
    "        stopWord_ko.extend(source.split('\\n'))\n",
    "        return sorted(stopWord_en, key = lambda s : len(s), reverse = True), sorted(stopWord_ko, key = lambda s : len(s), reverse = True)\n",
    "\n",
    "    def removeStopWords (self, s) : # 문자열에서 불용어를 제거하는 함수 \n",
    "        en, ko = self.stopWords() #글자 길이순으로 정렬되어있기 때문에 짧은 단어를 먼저 제거해서 긴 단어를 제거 못하는 경우를 방지\n",
    "        temp = s.split()\n",
    "        for i in en : # 단어별로 구분해서 제거\n",
    "            for j in range(len(temp)) :\n",
    "                if i == temp[j] :\n",
    "                    temp[j] = \"\"\n",
    "        s = \" \".join(temp)\n",
    "        for i in ko[:575] : #두 글자 이상의 불용어\n",
    "            s = s.replace(i,\"\")\n",
    "        for i in ko[576:644] :#한 글자의 불용어 (이, 을, 를 같은 조사류)\n",
    "            s = s.replace(i + \" \", \" \")\n",
    "            s = s.replace(i + \"\\n\", \"\\n\")\n",
    "            if(s[-1:] == i) :\n",
    "                s = s[:-1]\n",
    "        for i in ko[645:] : # 기타 숫자와 기호\n",
    "            s = s.replace(i,\"\")\n",
    "        return s\n",
    "    \n",
    "    def similarity(s, site) : #검색어와 사이트의 유사도를 판별하는 함수\n",
    "        sim = 0\n",
    "        l = sorted(list(self.getWordsFrequency().items()),key = lambda k : k[1], reverse = True)\n",
    "        l = l[0:3]\n",
    "        for i in removeStopWords(s).split() :\n",
    "            if i in l[0][0] : # 빈도수 1순위 단어와 비교\n",
    "                if len(i) <= len(l[0][0]) :\n",
    "                    sim += len(i)/len(l[0][0])*3\n",
    "                else :\n",
    "                    sim += len(l[0][0])/len(i)*3\n",
    "            if i in l[1][0] : # 빈도수 2순위 단어와 비교\n",
    "                if len(i) <= len(l[1][0]) :\n",
    "                    sim += len(i)/len(l[1][0])*2\n",
    "                else :\n",
    "                    sim += len(l[1][0])/len(i)*2\n",
    "            if i in l[2][0] : # 빈도수 3순위 단어와 비교\n",
    "                if len(i) <= len(l[2][0]) :\n",
    "                    sim += len(i)/len(l[2][0])    \n",
    "                else :\n",
    "                    sim += len(l[2][0])/len(i)\n",
    "        return site, sim\n",
    "    \n",
    "    def freq(l) : #단어의 출현 빈도를 사전으로 반환하는 함수\n",
    "        d = {}\n",
    "        for i in l :\n",
    "            if i in d :\n",
    "                d[i] += 1\n",
    "            else :\n",
    "                d[i] = 1\n",
    "        return d"
   ]
  },
  {
   "cell_type": "markdown",
   "metadata": {},
   "source": [
    "8) SearchEngine 를 상속한 SearchEngineWithOrderedWebWords 클래스를 정의하시오."
   ]
  },
  {
   "cell_type": "markdown",
   "metadata": {},
   "source": [
    "9) 다음과 같은 코딩이 가능하도록 SearchEngineWithOrderedWebWords안에 반복자와 관련된 메소드를 추가하시오."
   ]
  },
  {
   "cell_type": "code",
   "execution_count": 14,
   "metadata": {},
   "outputs": [],
   "source": [
    "class SearchEngineWithOrderedWebWords(SearchEngine) :\n",
    "    def __iter__(self) :\n",
    "        self.word = self.getWordsFrequency()\n",
    "        self.Max = len(self.word)\n",
    "        self.i = -1\n",
    "        return self\n",
    "    def __next__(self) :\n",
    "        self.i += 1\n",
    "        if self.i == self.Max :\n",
    "            raise StopIteration\n",
    "        return self.word[self.i]\n",
    "    def getWordsFrequency(self, rev = False) :\n",
    "        wordsFreq = {}\n",
    "        for i in self.siteList :\n",
    "            for j in self.Search(i) :\n",
    "                if j in wordsFreq :\n",
    "                    wordsFreq[j] += 1\n",
    "                else :\n",
    "                    wordsFreq[j] = 1\n",
    "        sortWordsFreq = sorted(list(wordsFreq.items()),key = lambda k : k[1], reverse = not rev)\n",
    "        return sortWordsFreq"
   ]
  },
  {
   "cell_type": "markdown",
   "metadata": {},
   "source": [
    "### 소감\n",
    "- 기존의 짜놓았던 코드를 클래스화 시킨다는 것을 거의 처음 해보는 건데 생각보다 어렵지 않고, 재미있었다. 모듈화 시키는 것은 이것보다는 더 어렵겠지만, 잘 만들어 놓은 코드를 모듈로 만들어서 나중에도 자주 써먹으면 유용하고, 뿌듯할 것 같다는 생각이 들었다. 마지막 과제를 하면서 파이썬이 매력적이고 논리적인 언어라는 것을 다시한번 깨닫게 되었다."
   ]
  },
  {
   "cell_type": "code",
   "execution_count": null,
   "metadata": {},
   "outputs": [],
   "source": []
  }
 ],
 "metadata": {
  "kernelspec": {
   "display_name": "Python 3",
   "language": "python",
   "name": "python3"
  },
  "language_info": {
   "codemirror_mode": {
    "name": "ipython",
    "version": 3
   },
   "file_extension": ".py",
   "mimetype": "text/x-python",
   "name": "python",
   "nbconvert_exporter": "python",
   "pygments_lexer": "ipython3",
   "version": "3.6.5"
  }
 },
 "nbformat": 4,
 "nbformat_minor": 2
}
